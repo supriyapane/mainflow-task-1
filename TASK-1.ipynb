{
 "cells": [
  {
   "cell_type": "code",
   "execution_count": 3,
   "id": "fab51907-0129-47cd-b7b7-17bb42771aa2",
   "metadata": {},
   "outputs": [
    {
     "name": "stdout",
     "output_type": "stream",
     "text": [
      "Updated_list [1, 2, 3, 48, 5, 6]\n"
     ]
    }
   ],
   "source": [
    "#creating a list\n",
    "my_list=[3,5,2,7,1,4]\n",
    "\n",
    "#adding an element to the list\n",
    "my_list.append(6)\n",
    "\n",
    "#removing an element to the list\n",
    "my_list.remove(7)\n",
    "\n",
    "#sorting the list\n",
    "my_list.sort()\n",
    "\n",
    "#upating elements from the list\n",
    "my_list[3]=48\n",
    "\n",
    "print(\"Updated_list\",my_list)"
   ]
  },
  {
   "cell_type": "code",
   "execution_count": 6,
   "id": "2dc8cef8-819b-4017-8b3c-7e61c6c1ef2b",
   "metadata": {},
   "outputs": [
    {
     "name": "stdout",
     "output_type": "stream",
     "text": [
      "Updated_dict {'ID': 67, 'Name': 'Keerthi', 'Age': 20, 'City': 'Chennai', 'Work': 'Employee'}\n",
      "[67, 'Keerthi', 20, 'Chennai', 'Employee']\n"
     ]
    }
   ],
   "source": [
    "#creating a dictionary\n",
    "my_dict={'ID':67,'Name':'Keerthi','Age':20,'City':'Hyderabad','Qualification':'BTECH'}\n",
    "\n",
    "#adding an element to the dictionary\n",
    "my_dict['Work']='Employee'\n",
    "\n",
    "#removing an element from the dictionary\n",
    "del my_dict['Qualification']\n",
    "\n",
    "#modifying elements in dictionary\n",
    "my_dict['City']='Chennai'\n",
    "\n",
    "print('Updated_dict',my_dict)\n",
    "\n",
    "my_list=[i for i in my_dict.values()]\n",
    "print(my_list)"
   ]
  },
  {
   "cell_type": "code",
   "execution_count": 7,
   "id": "c5c56ad3-0f18-4d05-89c3-4af27b3b1b54",
   "metadata": {},
   "outputs": [
    {
     "name": "stdout",
     "output_type": "stream",
     "text": [
      "Updated_tuple (-64, 5, 9, 7)\n"
     ]
    }
   ],
   "source": [
    "#Original tuple\n",
    "tuple=(-64,5,9,15,23)\n",
    "\n",
    "#adding an element to tuple\n",
    "new_element=6\n",
    "updated_tuple=tuple+(new_element,)\n",
    "\n",
    "#removing an element from tuple\n",
    "updated_tuple=tuple[0:1]+tuple[4:0]\n",
    "\n",
    "#modifing an element in the tuple\n",
    "new_element1=7\n",
    "updated_tuple=tuple[0:3]+(new_element1,)+tuple[4:0]\n",
    "\n",
    "print('Updated_tuple',updated_tuple)"
   ]
  },
  {
   "cell_type": "code",
   "execution_count": null,
   "id": "b23446b7-6ab7-49d4-b043-c90a5ec3088f",
   "metadata": {},
   "outputs": [],
   "source": []
  }
 ],
 "metadata": {
  "kernelspec": {
   "display_name": "Python 3 (ipykernel)",
   "language": "python",
   "name": "python3"
  },
  "language_info": {
   "codemirror_mode": {
    "name": "ipython",
    "version": 3
   },
   "file_extension": ".py",
   "mimetype": "text/x-python",
   "name": "python",
   "nbconvert_exporter": "python",
   "pygments_lexer": "ipython3",
   "version": "3.8.10"
  }
 },
 "nbformat": 4,
 "nbformat_minor": 5
}
